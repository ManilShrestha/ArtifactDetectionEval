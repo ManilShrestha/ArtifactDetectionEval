{
 "cells": [
  {
   "cell_type": "code",
   "execution_count": 1,
   "metadata": {},
   "outputs": [],
   "source": [
    "import sys\n",
    "sys.path.append('..')\n",
    "\n",
    "import numpy as np\n",
    "import h5py\n",
    "import os\n",
    "from collections import Counter\n",
    "\n",
    "from ArtifactDetectionEval.lib.CustomDataset import TimeSeriesHDF5Dataset\n",
    "from lib.Utilities import *\n"
   ]
  },
  {
   "cell_type": "code",
   "execution_count": 2,
   "metadata": {},
   "outputs": [
    {
     "name": "stdout",
     "output_type": "stream",
     "text": [
      "18:41:09 :\t  Reading /storage/ms5267@drexel.edu/precicecap_downloads/90_Patient_2023-03-21_12:19.h5 \n",
      "\n",
      "18:41:09 :\t  Sampling frequency for this file is: 125 \n",
      "\n",
      "18:41:09 :\t  There are a total of : 4586 segments of 10 seconds with overlap of 50.0% \n",
      "\n"
     ]
    }
   ],
   "source": [
    "filepath = '/storage/ms5267@drexel.edu/precicecap_downloads/90_Patient_2023-03-21_12:19.h5'\n",
    "t  = TimeSeriesHDF5Dataset(filepath, 'Waveforms/ABP_na','Waveforms/ABP_na_Timestamps',10,0.5)"
   ]
  },
  {
   "cell_type": "code",
   "execution_count": 3,
   "metadata": {},
   "outputs": [
    {
     "name": "stdout",
     "output_type": "stream",
     "text": [
      "18:41:10 :\t  Reading /storage/ms5267@drexel.edu/precicecap_downloads/90_Patient_2023-03-21_12:19.h5 \n",
      "\n",
      "18:41:10 :\t  Sampling frequency for this file is: 500 \n",
      "\n",
      "18:41:10 :\t  Frequency will be resampled to 125Hz. \n",
      "\n",
      "18:41:10 :\t  There are a total of : 4586 segments of 10 seconds with overlap of 50.0% \n",
      "\n"
     ]
    }
   ],
   "source": [
    "filepath = '/storage/ms5267@drexel.edu/precicecap_downloads/90_Patient_2023-03-21_12:19.h5'\n",
    "t  = TimeSeriesHDF5Dataset(filepath, 'Waveforms/ECG_II','Waveforms/ECG_II_Timestamps',10,0.5)"
   ]
  },
  {
   "cell_type": "code",
   "execution_count": 7,
   "metadata": {},
   "outputs": [
    {
     "data": {
      "text/plain": [
       "1250"
      ]
     },
     "execution_count": 7,
     "metadata": {},
     "output_type": "execute_result"
    }
   ],
   "source": [
    "len(t[2])"
   ]
  },
  {
   "cell_type": "code",
   "execution_count": null,
   "metadata": {},
   "outputs": [],
   "source": []
  }
 ],
 "metadata": {
  "kernelspec": {
   "display_name": "ve-m",
   "language": "python",
   "name": "python3"
  },
  "language_info": {
   "codemirror_mode": {
    "name": "ipython",
    "version": 3
   },
   "file_extension": ".py",
   "mimetype": "text/x-python",
   "name": "python",
   "nbconvert_exporter": "python",
   "pygments_lexer": "ipython3",
   "version": "3.10.13"
  }
 },
 "nbformat": 4,
 "nbformat_minor": 2
}
