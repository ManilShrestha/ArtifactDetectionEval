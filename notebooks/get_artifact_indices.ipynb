{
 "cells": [
  {
   "cell_type": "code",
   "execution_count": 1,
   "metadata": {},
   "outputs": [],
   "source": [
    "import sys\n",
    "sys.path.append('..')\n",
    "\n",
    "\n",
    "import numpy as np\n",
    "from tqdm.notebook import tqdm\n",
    "import h5py\n",
    "from lib.Utilities import *\n",
    "import os\n",
    "from collections import Counter\n",
    "import pandas as pd\n",
    "\n",
    "import csv"
   ]
  },
  {
   "cell_type": "code",
   "execution_count": 2,
   "metadata": {},
   "outputs": [
    {
     "name": "stdout",
     "output_type": "stream",
     "text": [
      "18:34:32 :\t  Processing 85_Patient_2023-05-12_17:53.h5 \n",
      "\n",
      "18:34:32 :\t  Processing 59_Patient_2022-01-31_23:19.h5 \n",
      "\n",
      "18:34:32 :\t  Processing 74_Patient_2023-08-05_06:00.h5 \n",
      "\n",
      "18:34:32 :\t  Processing 110_Patient_2023_Sep_28__23_52_07_705708.h5 \n",
      "\n",
      "18:34:32 :\t  Processing 4_Patient_2022-02-05_08:59.h5 \n",
      "\n",
      "18:34:32 :\t  Processing 73_Patient_2017_Dec_18__11_19_55_297272.h5 \n",
      "\n",
      "18:34:32 :\t  Processing 34_Patient_2023-04-04_22:31.h5 \n",
      "\n",
      "18:34:32 :\t  Processing 53_Patient_2023-06-25_21:39.h5 \n",
      "\n",
      "18:34:32 :\t  Processing 101_Patient_2023_Nov_9__22_24_41_155873.h5 \n",
      "\n",
      "18:34:32 :\t  Processing 90_Patient_2023-03-21_12:19.h5 \n",
      "\n",
      "18:34:32 :\t  Processing 50_Patient_2023-06-12_21:10.h5 \n",
      "\n",
      "18:34:32 :\t  Processing 35_Patient_2023-04-03_19:51.h5 \n",
      "\n",
      "18:34:32 :\t  Processing 55_Patient_2023-06-13_00:47.h5 \n",
      "\n",
      "18:34:32 :\t  Processing 139_Patient_2024_Mar_4__7_32_51_662674.h5 \n",
      "\n",
      "Counter({b'ECG': 5448, b'ABP': 3870, b'ART': 3644, b'ART2': 84, b'EEG': 66, b'Temp': 32, b'ART1': 26, b'na': 24, b'RR': 21, b'PLETH': 21, b'SpO2': 20, b'RESP': 17, b'NBP': 6, b'Tesop': 6, b'Tcore': 5, b'ICP': 4, b'Tperf': 2, b'Trect': 2, b'HR': 2, b'CPP': 2, b'T1': 2, b'T2': 2})\n"
     ]
    }
   ],
   "source": [
    "# datafile = '/storage/ms5267@drexel.edu/precicecap_downloads/90_Patient_2023-03-21_12:19.h5'\n",
    "\n",
    "annotation_group_names = []\n",
    "\n",
    "# Directory containing the HDF5 files\n",
    "directory_path = '/storage/ms5267@drexel.edu/precicecap_downloads/'\n",
    "\n",
    "for filename in os.listdir(directory_path):\n",
    "\tif filename.endswith('.h5'):\n",
    "\t\tlog_info(f\"Processing {filename}\")\n",
    "\t\tdatafile = os.path.join(directory_path, filename)\n",
    "\t\twith h5py.File(datafile, 'r') as file:\n",
    "\t\t\tannotations_group = file['Annotations']\n",
    "\t\t\tfor name, subgroup in annotations_group.items():\n",
    "\t\t\t\tannotation_data = file[f'Annotations/{name}'][:]\n",
    "\t\t\t\tif len(annotation_data)>0:\n",
    "\t\t\t\t\tannotation_group_names.extend(list(annotation_data[:, -2]))\n",
    "\t\t\t\telse:\n",
    "\t\t\t\t\tlog_info(\"No annotation group\")\n",
    "\n",
    "print(Counter(annotation_group_names))"
   ]
  },
  {
   "cell_type": "code",
   "execution_count": 3,
   "metadata": {},
   "outputs": [
    {
     "data": {
      "application/vnd.jupyter.widget-view+json": {
       "model_id": "d8a4faec820c41e2a70025d234e2c5ce",
       "version_major": 2,
       "version_minor": 0
      },
      "text/plain": [
       "  0%|          | 0/17 [00:00<?, ?it/s]"
      ]
     },
     "metadata": {},
     "output_type": "display_data"
    },
    {
     "name": "stdout",
     "output_type": "stream",
     "text": [
      "18:56:22 :\t  Processing 85_Patient_2023-05-12_17:53.h5 \n",
      "\n",
      "18:56:27 :\t  (1003, 8) \n",
      "\n",
      "18:56:27 :\t  Processing 59_Patient_2022-01-31_23:19.h5 \n",
      "\n",
      "18:56:27 :\t  (621, 8) \n",
      "\n",
      "18:56:27 :\t  Processing 74_Patient_2023-08-05_06:00.h5 \n",
      "\n",
      "18:56:33 :\t  (1220, 8) \n",
      "\n",
      "18:56:33 :\t  Processing 110_Patient_2023_Sep_28__23_52_07_705708.h5 \n",
      "\n",
      "18:56:38 :\t  (3757, 8) \n",
      "\n",
      "18:56:39 :\t  Processing 4_Patient_2022-02-05_08:59.h5 \n",
      "\n",
      "18:56:39 :\t  (474, 8) \n",
      "\n",
      "18:56:39 :\t  Processing 73_Patient_2017_Dec_18__11_19_55_297272.h5 \n",
      "\n",
      "18:56:39 :\t  (375, 8) \n",
      "\n",
      "18:56:39 :\t  Processing 34_Patient_2023-04-04_22:31.h5 \n",
      "\n",
      "18:56:40 :\t  (1442, 8) \n",
      "\n",
      "18:56:40 :\t  Processing 53_Patient_2023-06-25_21:39.h5 \n",
      "\n",
      "18:56:40 :\t  (21, 8) \n",
      "\n",
      "18:56:40 :\t  Processing 101_Patient_2023_Nov_9__22_24_41_155873.h5 \n",
      "\n",
      "18:56:44 :\t  (607, 8) \n",
      "\n",
      "18:56:44 :\t  Processing 90_Patient_2023-03-21_12:19.h5 \n",
      "\n",
      "18:56:44 :\t  (228, 8) \n",
      "\n",
      "18:56:44 :\t  Processing 50_Patient_2023-06-12_21:10.h5 \n",
      "\n",
      "18:56:49 :\t  (760, 8) \n",
      "\n",
      "18:56:49 :\t  Processing 35_Patient_2023-04-03_19:51.h5 \n",
      "\n",
      "18:56:50 :\t  (361, 8) \n",
      "\n",
      "18:56:50 :\t  Processing 55_Patient_2023-06-13_00:47.h5 \n",
      "\n",
      "18:56:55 :\t  (1212, 8) \n",
      "\n",
      "18:56:55 :\t  Processing 139_Patient_2024_Mar_4__7_32_51_662674.h5 \n",
      "\n",
      "18:56:56 :\t  (895, 8) \n",
      "\n"
     ]
    }
   ],
   "source": [
    "# Run this to update the annotation file.\n",
    "# Directory containing the HDF5 files\n",
    "directory_path = '/storage/ms5267@drexel.edu/precicecap_downloads/'\n",
    "\n",
    "keys_to_select = ['Waveforms/ART_na_Timestamps', 'Waveforms/ABP_na_Timestamps', 'Waveforms/ECG_II_Timestamps']\n",
    "ann_keys = [b'ART', b'ABP', b'ECG']\n",
    "ecg_abp_annotations = []\n",
    "for filename in tqdm(os.listdir(directory_path)):\n",
    "\tif filename.endswith('.h5'):\n",
    "\t\tlog_info(f\"Processing {filename}\")\n",
    "\t\tdatafile = os.path.join(directory_path, filename)\n",
    "\t\tfinal_arr = np.array([['ID1', 'ID2', 'Session', 'Data_Type', 'Start_Time', 'End_Time', 'Signal_Type', 'Lead_Type']], dtype=str)\n",
    "\t\twith h5py.File(datafile, 'r') as file:\n",
    "\t\t\t# Process one data group at a time\n",
    "\t\t\tfor ind, datagroup in enumerate(keys_to_select):\n",
    "\t\t\t\t# If the group does not exist in the file\n",
    "\t\t\t\tif datagroup not in file:\n",
    "\t\t\t\t\tcontinue\n",
    "\t\t\t\t\n",
    "\t\t\t\ttimestamp = file[datagroup][:]\n",
    "\n",
    "\t\t\t\tannotations_group = file['Annotations']\n",
    "\t\t\t\n",
    "\t\t\t\tfor name, subgroup in annotations_group.items():\n",
    "\t\t\t\t\tannotation_data = file[f'Annotations/{name}'][:]\n",
    "\t\t\t\t\t# If no annotation data need to print that there is no annotation for this file.\n",
    "\t\t\t\t\tif len(annotation_data)==0:\n",
    "\t\t\t\t\t\tlog_info(f\"No annotation group in {filename}\")\n",
    "\t\t\t\t\t\tcontinue\n",
    "\t\t\t\t\t\n",
    "\t\t\t\t\t# print(ann_keys, annotation_data[:, -2])\n",
    "\t\t\t\t\tmask =  (annotation_data[:, -2] == ann_keys[ind])\n",
    "\n",
    "\t\t\t\t\tannotation_t = annotation_data[mask]\n",
    "\n",
    "\t\t\t\t# Create the annotation indices from the timestampe.\n",
    "\t\t\t\tidx_list=[]\n",
    "\t\t\t\tfor ann in annotation_t:\n",
    "\t\t\t\t\tann_start_ts = int(float(ann[2])*1e3)\n",
    "\t\t\t\t\tann_end_ts = int(float(ann[3])*1e3)\n",
    "\t\t\t\t\t\n",
    "\t\t\t\t\tann_start_idx, ann_end_idx = find_idx_from_ts(timestamp, ann_start_ts, ann_end_ts)\n",
    "\t\t\t\t\t\n",
    "\t\t\t\t\tidx_list.append([ann_start_idx, ann_end_idx])\n",
    "\n",
    "\t\t\t\t# print(np.array(idx_list).shape, np.array(annotation_t).shape)\n",
    "\t\t\t\tann_array = np.hstack((np.array(idx_list), annotation_t)).astype(str)\n",
    "\t\t\t\t# print(ann_array.shape, final_arr.shape)\n",
    "\n",
    "\t\t\t\tfinal_arr = np.vstack((final_arr, ann_array ))\n",
    "\n",
    "\t\t\tlog_info(np.array(final_arr).shape)\n",
    "\t\t\tnp.savetxt(f'../data/annotations/{filename}-annotations.csv', final_arr, delimiter=',', fmt='%s')"
   ]
  },
  {
   "cell_type": "code",
   "execution_count": 5,
   "metadata": {},
   "outputs": [
    {
     "data": {
      "application/vnd.jupyter.widget-view+json": {
       "model_id": "eeb6e430134b48bba7c73dc25860cabc",
       "version_major": 2,
       "version_minor": 0
      },
      "text/plain": [
       "  0%|          | 0/14 [00:00<?, ?it/s]"
      ]
     },
     "metadata": {},
     "output_type": "display_data"
    },
    {
     "name": "stdout",
     "output_type": "stream",
     "text": [
      "Processing 50_Patient_2023-06-12_21:10.h5-annotations.csv\n",
      "/storage/ms5267@drexel.edu/precicecap_downloads/50_Patient_2023-06-12_21:10.h5\n",
      "197\n",
      "Data written to /home/ms5267@drexel.edu/moberg-precicecap/ArtifactDetectionEval/data/filtered_annotations/50_Patient_2023-06-12_21:10.h5-annotations.csv successfully.\n",
      "Processing 35_Patient_2023-04-03_19:51.h5-annotations.csv\n",
      "/storage/ms5267@drexel.edu/precicecap_downloads/35_Patient_2023-04-03_19:51.h5\n",
      "111\n",
      "Data written to /home/ms5267@drexel.edu/moberg-precicecap/ArtifactDetectionEval/data/filtered_annotations/35_Patient_2023-04-03_19:51.h5-annotations.csv successfully.\n",
      "Processing 59_Patient_2022-01-31_23:19.h5-annotations.csv\n",
      "/storage/ms5267@drexel.edu/precicecap_downloads/59_Patient_2022-01-31_23:19.h5\n",
      "159\n",
      "Data written to /home/ms5267@drexel.edu/moberg-precicecap/ArtifactDetectionEval/data/filtered_annotations/59_Patient_2022-01-31_23:19.h5-annotations.csv successfully.\n",
      "Processing 34_Patient_2023-04-04_22:31.h5-annotations.csv\n",
      "/storage/ms5267@drexel.edu/precicecap_downloads/34_Patient_2023-04-04_22:31.h5\n"
     ]
    },
    {
     "ename": "KeyboardInterrupt",
     "evalue": "",
     "output_type": "error",
     "traceback": [
      "\u001b[0;31m---------------------------------------------------------------------------\u001b[0m",
      "\u001b[0;31mKeyboardInterrupt\u001b[0m                         Traceback (most recent call last)",
      "Cell \u001b[0;32mIn[5], line 49\u001b[0m\n\u001b[1;32m     47\u001b[0m row_j \u001b[38;5;241m=\u001b[39m df_sorted\u001b[38;5;241m.\u001b[39miloc[j]\n\u001b[1;32m     48\u001b[0m \u001b[38;5;66;03m# Compare based on your conditions, e.g., check if intervals overlap\u001b[39;00m\n\u001b[0;32m---> 49\u001b[0m \u001b[38;5;28;01mif\u001b[39;00m row_i[\u001b[38;5;124m'\u001b[39m\u001b[38;5;124mSignal_Type\u001b[39m\u001b[38;5;124m'\u001b[39m] \u001b[38;5;241m==\u001b[39m row_j[\u001b[38;5;124m'\u001b[39m\u001b[38;5;124mSignal_Type\u001b[39m\u001b[38;5;124m'\u001b[39m] \u001b[38;5;129;01mand\u001b[39;00m is_overlapping(start_ts, end_ts, \u001b[43mrow_j\u001b[49m\u001b[43m[\u001b[49m\u001b[38;5;124;43m'\u001b[39;49m\u001b[38;5;124;43mStart_Time\u001b[39;49m\u001b[38;5;124;43m'\u001b[39;49m\u001b[43m]\u001b[49m, row_j[\u001b[38;5;124m'\u001b[39m\u001b[38;5;124mEnd_Time\u001b[39m\u001b[38;5;124m'\u001b[39m]) \u001b[38;5;129;01mand\u001b[39;00m row_i[\u001b[38;5;124m'\u001b[39m\u001b[38;5;124mSession\u001b[39m\u001b[38;5;124m'\u001b[39m]\u001b[38;5;241m!=\u001b[39mrow_j[\u001b[38;5;124m'\u001b[39m\u001b[38;5;124mSession\u001b[39m\u001b[38;5;124m'\u001b[39m]:\n\u001b[1;32m     51\u001b[0m \tstart_ts, end_ts \u001b[38;5;241m=\u001b[39m intersection(start_ts, end_ts, row_j[\u001b[38;5;124m'\u001b[39m\u001b[38;5;124mStart_Time\u001b[39m\u001b[38;5;124m'\u001b[39m], row_j[\u001b[38;5;124m'\u001b[39m\u001b[38;5;124mEnd_Time\u001b[39m\u001b[38;5;124m'\u001b[39m])\n\u001b[1;32m     52\u001b[0m \tannotated_by\u001b[38;5;241m=\u001b[39m annotated_by \u001b[38;5;241m+\u001b[39m \u001b[38;5;124m'\u001b[39m\u001b[38;5;124m|\u001b[39m\u001b[38;5;124m'\u001b[39m \u001b[38;5;241m+\u001b[39m row_j[\u001b[38;5;124m'\u001b[39m\u001b[38;5;124mSession\u001b[39m\u001b[38;5;124m'\u001b[39m]\n",
      "File \u001b[0;32m~/anaconda3/envs/ve-m/lib/python3.10/site-packages/pandas/core/series.py:1111\u001b[0m, in \u001b[0;36mSeries.__getitem__\u001b[0;34m(self, key)\u001b[0m\n\u001b[1;32m   1108\u001b[0m     \u001b[38;5;28;01mreturn\u001b[39;00m \u001b[38;5;28mself\u001b[39m\u001b[38;5;241m.\u001b[39m_values[key]\n\u001b[1;32m   1110\u001b[0m \u001b[38;5;28;01melif\u001b[39;00m key_is_scalar:\n\u001b[0;32m-> 1111\u001b[0m     \u001b[38;5;28;01mreturn\u001b[39;00m \u001b[38;5;28;43mself\u001b[39;49m\u001b[38;5;241;43m.\u001b[39;49m\u001b[43m_get_value\u001b[49m\u001b[43m(\u001b[49m\u001b[43mkey\u001b[49m\u001b[43m)\u001b[49m\n\u001b[1;32m   1113\u001b[0m \u001b[38;5;66;03m# Convert generator to list before going through hashable part\u001b[39;00m\n\u001b[1;32m   1114\u001b[0m \u001b[38;5;66;03m# (We will iterate through the generator there to check for slices)\u001b[39;00m\n\u001b[1;32m   1115\u001b[0m \u001b[38;5;28;01mif\u001b[39;00m is_iterator(key):\n",
      "File \u001b[0;32m~/anaconda3/envs/ve-m/lib/python3.10/site-packages/pandas/core/series.py:1227\u001b[0m, in \u001b[0;36mSeries._get_value\u001b[0;34m(self, label, takeable)\u001b[0m\n\u001b[1;32m   1224\u001b[0m     \u001b[38;5;28;01mreturn\u001b[39;00m \u001b[38;5;28mself\u001b[39m\u001b[38;5;241m.\u001b[39m_values[label]\n\u001b[1;32m   1226\u001b[0m \u001b[38;5;66;03m# Similar to Index.get_value, but we do not fall back to positional\u001b[39;00m\n\u001b[0;32m-> 1227\u001b[0m loc \u001b[38;5;241m=\u001b[39m \u001b[38;5;28;43mself\u001b[39;49m\u001b[38;5;241;43m.\u001b[39;49m\u001b[43mindex\u001b[49m\u001b[38;5;241;43m.\u001b[39;49m\u001b[43mget_loc\u001b[49m\u001b[43m(\u001b[49m\u001b[43mlabel\u001b[49m\u001b[43m)\u001b[49m\n\u001b[1;32m   1229\u001b[0m \u001b[38;5;28;01mif\u001b[39;00m is_integer(loc):\n\u001b[1;32m   1230\u001b[0m     \u001b[38;5;28;01mreturn\u001b[39;00m \u001b[38;5;28mself\u001b[39m\u001b[38;5;241m.\u001b[39m_values[loc]\n",
      "File \u001b[0;32m~/anaconda3/envs/ve-m/lib/python3.10/site-packages/pandas/core/indexes/base.py:3774\u001b[0m, in \u001b[0;36mIndex.get_loc\u001b[0;34m(self, key)\u001b[0m\n\u001b[1;32m   3769\u001b[0m     \u001b[38;5;28;01mreturn\u001b[39;00m other, result_name\n\u001b[1;32m   3771\u001b[0m \u001b[38;5;66;03m# --------------------------------------------------------------------\u001b[39;00m\n\u001b[1;32m   3772\u001b[0m \u001b[38;5;66;03m# Indexing Methods\u001b[39;00m\n\u001b[0;32m-> 3774\u001b[0m \u001b[38;5;28;01mdef\u001b[39;00m \u001b[38;5;21mget_loc\u001b[39m(\u001b[38;5;28mself\u001b[39m, key):\n\u001b[1;32m   3775\u001b[0m \u001b[38;5;250m    \u001b[39m\u001b[38;5;124;03m\"\"\"\u001b[39;00m\n\u001b[1;32m   3776\u001b[0m \u001b[38;5;124;03m    Get integer location, slice or boolean mask for requested label.\u001b[39;00m\n\u001b[1;32m   3777\u001b[0m \n\u001b[0;32m   (...)\u001b[0m\n\u001b[1;32m   3798\u001b[0m \u001b[38;5;124;03m    array([False,  True, False,  True])\u001b[39;00m\n\u001b[1;32m   3799\u001b[0m \u001b[38;5;124;03m    \"\"\"\u001b[39;00m\n\u001b[1;32m   3800\u001b[0m     casted_key \u001b[38;5;241m=\u001b[39m \u001b[38;5;28mself\u001b[39m\u001b[38;5;241m.\u001b[39m_maybe_cast_indexer(key)\n",
      "\u001b[0;31mKeyboardInterrupt\u001b[0m: "
     ]
    }
   ],
   "source": [
    "annotation_folder = '/home/ms5267@drexel.edu/moberg-precicecap/ArtifactDetectionEval/data/annotations'\n",
    "target_folder = '/home/ms5267@drexel.edu/moberg-precicecap/ArtifactDetectionEval/data/filtered_annotations'\n",
    "group_dict = {\n",
    "\t'ECG': 'Waveforms/ECG_II_Timestamps'\n",
    "\t,'ABP': 'Waveforms/ABP_na_Timestamps'\n",
    "\t,'ART': 'Waveforms/ART_na_Timestamps'\n",
    "}\n",
    "\n",
    "hdf5_dir = '/storage/ms5267@drexel.edu/precicecap_downloads/'\n",
    "\n",
    "# Define a function to check if two time intervals overlap\n",
    "def is_overlapping(start1, end1, start2, end2):\n",
    "\treturn max(start1, start2) < min(end1, end2)\n",
    "\n",
    "def intersection(start1, end1, start2, end2):\n",
    "\tnew_start = max(start1, start2)\n",
    "\tnew_end = min(end1, end2)\n",
    "\treturn new_start, new_end\n",
    "\n",
    "for filename in tqdm(os.listdir(annotation_folder)):\n",
    "\tif filename.endswith('.csv'):\n",
    "\t\tprint(f\"Processing {filename}\")\n",
    "\t\t\n",
    "\t\tdatafile = os.path.join(annotation_folder, filename)\n",
    "\t\tdf = pd.read_csv(datafile, encoding='utf-8') \n",
    "\n",
    "\t\tsignal_type = df['Signal_Type'].unique().tolist()\n",
    "\t\tcommon_ann = []\n",
    "\n",
    "\t\thdf5_file = hdf5_dir + filename[:-16]\n",
    "\n",
    "\t\tprint(hdf5_file)\n",
    "\t\t\n",
    "\t\tfor s in signal_type:\n",
    "\t\t\tdf_s = df[df['Signal_Type']==s]\n",
    "\t\t\tdf_sorted = df_s.sort_values(by='Start_Time')\n",
    "\t\t\twith h5py.File(hdf5_file, 'r') as filehdf5:\t\t\n",
    "\t\t\t\ttimestamp_raw = filehdf5[group_dict[s]][:]\n",
    "\t\t\t\n",
    "\t\t\tfor i in range(len(df_sorted)):\n",
    "\t\t\t\trow_i = df_sorted.iloc[i]\n",
    "\t\t\t\tstart_ts, end_ts = row_i['Start_Time'], row_i['End_Time']\n",
    "\t\t\t\tflag = 0\n",
    "\t\t\t\tannotated_by = row_i['Session']\n",
    "\n",
    "\t\t\t\tfor j in range(i + 1, len(df_sorted)):\n",
    "\t\t\t\t\trow_j = df_sorted.iloc[j]\n",
    "\t\t\t\t\t# Compare based on your conditions, e.g., check if intervals overlap\n",
    "\t\t\t\t\tif row_i['Signal_Type'] == row_j['Signal_Type'] and is_overlapping(start_ts, end_ts, row_j['Start_Time'], row_j['End_Time']) and row_i['Session']!=row_j['Session']:\n",
    "\t\t\t\t\t\t\t\t\t\t\t\t\n",
    "\t\t\t\t\t\tstart_ts, end_ts = intersection(start_ts, end_ts, row_j['Start_Time'], row_j['End_Time'])\n",
    "\t\t\t\t\t\tannotated_by= annotated_by + '|' + row_j['Session']\n",
    "\t\t\t\t\t\tflag = 1\n",
    "\t\t\t\t\n",
    "\t\t\t\tif flag==1:\n",
    "\t\t\t\t\tstart_ts = int(start_ts*1e3)\n",
    "\t\t\t\t\tend_ts = int(end_ts*1e3)\n",
    "\t\t\t\t\tann_start_idx, ann_end_idx = find_idx_from_ts(timestamp_raw, start_ts, end_ts)\n",
    "\t\t\t\t\tcommon_ann.append([ann_start_idx, ann_end_idx, int(start_ts), int(end_ts),annotated_by, row_i['Signal_Type']])\n",
    "\t\n",
    "\tprint(len(common_ann))\n",
    "\n",
    "\tdestination_file = target_folder + '/' + filename\n",
    "\t# Open the file in write mode\n",
    "\twith open(destination_file, mode='w', newline='') as file:\n",
    "\t\twriter = csv.writer(file)\n",
    "\t\t\n",
    "\t\t# Write each row to the CSV file\n",
    "\t\tfor row in common_ann:\n",
    "\t\t\twriter.writerow(row)\n",
    "\n",
    "\tprint(f\"Data written to {destination_file} successfully.\\n ================\")\n",
    "\n",
    "\t"
   ]
  },
  {
   "cell_type": "code",
   "execution_count": 86,
   "metadata": {},
   "outputs": [
    {
     "data": {
      "text/plain": [
       "(1680689974005418, 1680690021002149)"
      ]
     },
     "execution_count": 86,
     "metadata": {},
     "output_type": "execute_result"
    }
   ],
   "source": [
    "abp_timestamp[4979380], abp_timestamp[4985252]"
   ]
  },
  {
   "cell_type": "code",
   "execution_count": 56,
   "metadata": {},
   "outputs": [
    {
     "data": {
      "text/plain": [
       "array([1680650063562978, 1680650063570981, 1680650063578985, ...,\n",
       "       1680697542722857, 1680697542730861, 1680697542738865])"
      ]
     },
     "execution_count": 56,
     "metadata": {},
     "output_type": "execute_result"
    }
   ],
   "source": [
    "abp_timestamp"
   ]
  },
  {
   "cell_type": "code",
   "execution_count": 24,
   "metadata": {},
   "outputs": [
    {
     "data": {
      "application/vnd.jupyter.widget-view+json": {
       "model_id": "36f49e379dc145e3bef898ba59ee292a",
       "version_major": 2,
       "version_minor": 0
      },
      "text/plain": [
       "  0%|          | 0/14 [00:00<?, ?it/s]"
      ]
     },
     "metadata": {},
     "output_type": "display_data"
    },
    {
     "name": "stdout",
     "output_type": "stream",
     "text": [
      "Processing 50_Patient_2023-06-12_21:10.h5-annotations.csv\n"
     ]
    },
    {
     "ename": "NameError",
     "evalue": "name 'pd' is not defined",
     "output_type": "error",
     "traceback": [
      "\u001b[0;31m---------------------------------------------------------------------------\u001b[0m",
      "\u001b[0;31mNameError\u001b[0m                                 Traceback (most recent call last)",
      "Cell \u001b[0;32mIn[24], line 19\u001b[0m\n\u001b[1;32m     16\u001b[0m \u001b[38;5;28mprint\u001b[39m(\u001b[38;5;124mf\u001b[39m\u001b[38;5;124m\"\u001b[39m\u001b[38;5;124mProcessing \u001b[39m\u001b[38;5;132;01m{\u001b[39;00mfilename\u001b[38;5;132;01m}\u001b[39;00m\u001b[38;5;124m\"\u001b[39m)\n\u001b[1;32m     18\u001b[0m datafile \u001b[38;5;241m=\u001b[39m os\u001b[38;5;241m.\u001b[39mpath\u001b[38;5;241m.\u001b[39mjoin(annotation_folder, filename)\n\u001b[0;32m---> 19\u001b[0m df \u001b[38;5;241m=\u001b[39m \u001b[43mpd\u001b[49m\u001b[38;5;241m.\u001b[39mread_csv(datafile, encoding\u001b[38;5;241m=\u001b[39m\u001b[38;5;124m'\u001b[39m\u001b[38;5;124mutf-8\u001b[39m\u001b[38;5;124m'\u001b[39m) \n\u001b[1;32m     21\u001b[0m signal_type \u001b[38;5;241m=\u001b[39m df[\u001b[38;5;124m'\u001b[39m\u001b[38;5;124mSignal_Type\u001b[39m\u001b[38;5;124m'\u001b[39m]\u001b[38;5;241m.\u001b[39munique()\u001b[38;5;241m.\u001b[39mtolist()\n\u001b[1;32m     23\u001b[0m \u001b[38;5;28;01mfor\u001b[39;00m s \u001b[38;5;129;01min\u001b[39;00m signal_type:\n",
      "\u001b[0;31mNameError\u001b[0m: name 'pd' is not defined"
     ]
    }
   ],
   "source": [
    "annotation_folder = '/home/ms5267@drexel.edu/moberg-precicecap/ArtifactDetectionEval/data/annotations'\n",
    "\n",
    "# Define a function to check if two time intervals overlap\n",
    "def is_overlapping(start1, end1, start2, end2):\n",
    "\treturn max(start1, start2) < min(end1, end2)\n",
    "\n",
    "def intersection(start1, end1, start2, end2):\n",
    "\tnew_start = max(start1, start2)\n",
    "\tnew_end = min(end1, end2)\n",
    "\n",
    "\treturn new_start, new_end\n",
    "\n",
    "for filename in tqdm(os.listdir(annotation_folder)):\n",
    "\tcommon_ann = []\n",
    "\tif filename.endswith('.csv'):\n",
    "\t\tprint(f\"Processing {filename}\")\n",
    "\t\t\n",
    "\t\tdatafile = os.path.join(annotation_folder, filename)\n",
    "\t\tdf = pd.read_csv(datafile, encoding='utf-8') \n",
    "\n",
    "\t\tsignal_type = df['Signal_Type'].unique().tolist()\n",
    "\n",
    "\t\tfor s in signal_type:\n",
    "\t\t\tdf_s = df[df['Signal_Type']==s]\n",
    "\t\t\tdf_sorted = df_s.sort_values(by='Start_Time')\n",
    "\t\t\t\n",
    "\t\tfor i in range(len(df_sorted)):\n",
    "\t\t\trow_i = df_sorted.iloc[i]\n",
    "\t\t\tstart_ts, end_ts = row_i['Start_Time'], row_i['End_Time']\n",
    "\t\t\tflag = 0\n",
    "\t\t\tannotated_by = row_i['Session']\n",
    "\t\t\tfor j in range(i + 1, len(df_sorted)):\n",
    "\t\t\t\trow_j = df_sorted.iloc[j]\n",
    "\t\t\t\t# Compare based on your conditions, e.g., check if intervals overlap\n",
    "\t\t\t\tif row_i['Signal_Type'] == row_j['Signal_Type'] and is_overlapping(start_ts, end_ts, row_j['Start_Time'], row_j['End_Time']) and row_i['Session']!=row_j['Session']:\n",
    "\t\t\t\t\t# print(f\"Row {i} overlaps with row {j}\")\n",
    "\t\t\t\t\t\n",
    "\t\t\t\t\tstart_ts, end_ts = intersection(start_ts, end_ts, row_j['Start_Time'], row_j['End_Time'])\n",
    "\t\t\t\t\tannotated_by= annotated_by + ',' + row_j['Session']\n",
    "\t\t\t\t\tflag = 1\n",
    "\t\t\t\n",
    "\t\t\tif flag==1:\n",
    "\t\t\t\t# print(start_ts, end_ts, annotated_by)\n",
    "\t\t\t\tcommon_ann.append([int(start_ts), int(end_ts),annotated_by, row_i['Signal_Type']])\n",
    "\tprint(common_ann)\n",
    "\tbreak\n",
    "\t\t"
   ]
  },
  {
   "cell_type": "code",
   "execution_count": 6,
   "metadata": {},
   "outputs": [
    {
     "name": "stdout",
     "output_type": "stream",
     "text": [
      "/storage/ms5267@drexel.edu/precicecap_downloads/\n"
     ]
    }
   ],
   "source": []
  },
  {
   "cell_type": "code",
   "execution_count": null,
   "metadata": {},
   "outputs": [],
   "source": []
  }
 ],
 "metadata": {
  "kernelspec": {
   "display_name": "ve-m",
   "language": "python",
   "name": "python3"
  },
  "language_info": {
   "codemirror_mode": {
    "name": "ipython",
    "version": 3
   },
   "file_extension": ".py",
   "mimetype": "text/x-python",
   "name": "python",
   "nbconvert_exporter": "python",
   "pygments_lexer": "ipython3",
   "version": "3.10.13"
  }
 },
 "nbformat": 4,
 "nbformat_minor": 2
}
