{
 "cells": [
  {
   "cell_type": "code",
   "execution_count": 37,
   "metadata": {},
   "outputs": [],
   "source": [
    "import sys\n",
    "sys.path.append('..')\n",
    "\n",
    "\n",
    "import numpy as np\n",
    "import h5py\n",
    "from lib.Utilities import *\n",
    "import os\n",
    "from collections import Counter"
   ]
  },
  {
   "cell_type": "code",
   "execution_count": 39,
   "metadata": {},
   "outputs": [
    {
     "name": "stdout",
     "output_type": "stream",
     "text": [
      "14:30:36 :\t  Processing 85_Patient_2023-05-12_17:53.h5 \n",
      "\n",
      "14:30:36 :\t  Processing 59_Patient_2022-01-31_23:19.h5 \n",
      "\n",
      "14:30:36 :\t  Processing 74_Patient_2023-08-05_06:00.h5 \n",
      "\n",
      "14:30:36 :\t  Processing 110_Patient_2023_Sep_28__23_52_07_705708.h5 \n",
      "\n",
      "14:30:36 :\t  Processing 90_Patient_2023-03-21_19:57.h5 \n",
      "\n",
      "14:30:36 :\t  No annotation group \n",
      "\n",
      "14:30:36 :\t  Processing 4_Patient_2022-02-05_08:59.h5 \n",
      "\n",
      "14:30:36 :\t  Processing 73_Patient_2017_Dec_18__11_19_55_297272.h5 \n",
      "\n",
      "14:30:36 :\t  Processing 34_Patient_2023-04-04_22:31.h5 \n",
      "\n",
      "14:30:36 :\t  Processing 53_Patient_2023-06-25_21:39.h5 \n",
      "\n",
      "14:30:36 :\t  Processing 101_Patient_2023_Nov_9__22_24_41_155873.h5 \n",
      "\n",
      "14:30:36 :\t  Processing 90_Patient_2023-03-21_12:19.h5 \n",
      "\n",
      "14:30:36 :\t  Processing 50_Patient_2023-06-12_21:10.h5 \n",
      "\n",
      "14:30:36 :\t  Processing 35_Patient_2023-04-03_19:51.h5 \n",
      "\n",
      "14:30:36 :\t  Processing 55_Patient_2023-06-13_00:47.h5 \n",
      "\n",
      "14:30:36 :\t  Processing 139_Patient_2024_Mar_4__7_32_51_662674.h5 \n",
      "\n",
      "14:30:36 :\t  Processing 34_Patient_2023-04-05_12:23.h5 \n",
      "\n",
      "14:30:36 :\t  No annotation group \n",
      "\n",
      "Counter({b'ECG': 5448, b'ABP': 3870, b'ART': 3644, b'ART2': 84, b'EEG': 66, b'Temp': 32, b'ART1': 26, b'na': 24, b'RR': 21, b'PLETH': 21, b'SpO2': 20, b'RESP': 17, b'NBP': 6, b'Tesop': 6, b'Tcore': 5, b'ICP': 4, b'Tperf': 2, b'Trect': 2, b'HR': 2, b'CPP': 2, b'T1': 2, b'T2': 2})\n"
     ]
    }
   ],
   "source": [
    "datafile = '/storage/ms5267@drexel.edu/precicecap_downloads/90_Patient_2023-03-21_12:19.h5'\n",
    "\n",
    "annotation_group_names = []\n",
    "\n",
    "# Directory containing the HDF5 files\n",
    "directory_path = '/storage/ms5267@drexel.edu/precicecap_downloads/'\n",
    "\n",
    "for filename in os.listdir(directory_path):\n",
    "\tif filename.endswith('.h5'):\n",
    "\t\tlog_info(f\"Processing {filename}\")\n",
    "\t\tdatafile = os.path.join(directory_path, filename)\n",
    "\t\twith h5py.File(datafile, 'r') as file:\n",
    "\t\t\tannotations_group = file['Annotations']\n",
    "\t\t\tfor name, subgroup in annotations_group.items():\n",
    "\t\t\t\tannotation_data = file[f'Annotations/{name}'][:]\n",
    "\t\t\t\tif len(annotation_data)>0:\n",
    "\t\t\t\t\tannotation_group_names.extend(list(annotation_data[:, -2]))\n",
    "\t\t\t\telse:\n",
    "\t\t\t\t\tlog_info(\"No annotation group\")\n",
    "\n",
    "print(Counter(annotation_group_names))"
   ]
  },
  {
   "cell_type": "code",
   "execution_count": 94,
   "metadata": {},
   "outputs": [
    {
     "name": "stdout",
     "output_type": "stream",
     "text": [
      "15:23:04 :\t  Processing 85_Patient_2023-05-12_17:53.h5 \n",
      "\n",
      "15:23:10 :\t  (1002, 8) \n",
      "\n",
      "15:23:10 :\t  Processing 59_Patient_2022-01-31_23:19.h5 \n",
      "\n",
      "15:23:10 :\t  (620, 8) \n",
      "\n",
      "15:23:10 :\t  Processing 74_Patient_2023-08-05_06:00.h5 \n",
      "\n",
      "15:23:17 :\t  (1219, 8) \n",
      "\n",
      "15:23:17 :\t  Processing 110_Patient_2023_Sep_28__23_52_07_705708.h5 \n",
      "\n",
      "15:23:23 :\t  (3756, 8) \n",
      "\n",
      "15:23:24 :\t  Processing 90_Patient_2023-03-21_19:57.h5 \n",
      "\n",
      "15:23:26 :\t  No annotation group \n",
      "\n"
     ]
    },
    {
     "ename": "IndexError",
     "evalue": "index -2 is out of bounds for axis 1 with size 0",
     "output_type": "error",
     "traceback": [
      "\u001b[0;31m---------------------------------------------------------------------------\u001b[0m",
      "\u001b[0;31mIndexError\u001b[0m                                Traceback (most recent call last)",
      "Cell \u001b[0;32mIn[94], line 32\u001b[0m\n\u001b[1;32m     29\u001b[0m \t\u001b[38;5;28;01melse\u001b[39;00m:\n\u001b[1;32m     30\u001b[0m \t\tlog_info(\u001b[38;5;124m\"\u001b[39m\u001b[38;5;124mNo annotation group\u001b[39m\u001b[38;5;124m\"\u001b[39m)\n\u001b[0;32m---> 32\u001b[0m \tmask \u001b[38;5;241m=\u001b[39m  (\u001b[43mannotation_data\u001b[49m\u001b[43m[\u001b[49m\u001b[43m:\u001b[49m\u001b[43m,\u001b[49m\u001b[43m \u001b[49m\u001b[38;5;241;43m-\u001b[39;49m\u001b[38;5;241;43m2\u001b[39;49m\u001b[43m]\u001b[49m \u001b[38;5;241m==\u001b[39m \u001b[38;5;124mb\u001b[39m\u001b[38;5;124m'\u001b[39m\u001b[38;5;124mECG\u001b[39m\u001b[38;5;124m'\u001b[39m) \u001b[38;5;241m|\u001b[39m \\\n\u001b[1;32m     33\u001b[0m \t\t\t(annotation_data[:, \u001b[38;5;241m-\u001b[39m\u001b[38;5;241m2\u001b[39m] \u001b[38;5;241m==\u001b[39m \u001b[38;5;124mb\u001b[39m\u001b[38;5;124m'\u001b[39m\u001b[38;5;124mABP\u001b[39m\u001b[38;5;124m'\u001b[39m) \u001b[38;5;241m|\u001b[39m \\\n\u001b[1;32m     34\u001b[0m \t\t\t(annotation_data[:, \u001b[38;5;241m-\u001b[39m\u001b[38;5;241m2\u001b[39m] \u001b[38;5;241m==\u001b[39m \u001b[38;5;124mb\u001b[39m\u001b[38;5;124m'\u001b[39m\u001b[38;5;124mART\u001b[39m\u001b[38;5;124m'\u001b[39m) \u001b[38;5;241m|\u001b[39m \\\n\u001b[1;32m     35\u001b[0m \t\t\t(annotation_data[:, \u001b[38;5;241m-\u001b[39m\u001b[38;5;241m2\u001b[39m] \u001b[38;5;241m==\u001b[39m \u001b[38;5;124mb\u001b[39m\u001b[38;5;124m'\u001b[39m\u001b[38;5;124mART1\u001b[39m\u001b[38;5;124m'\u001b[39m) \u001b[38;5;241m|\u001b[39m \\\n\u001b[1;32m     36\u001b[0m \t\t\t(annotation_data[:, \u001b[38;5;241m-\u001b[39m\u001b[38;5;241m2\u001b[39m] \u001b[38;5;241m==\u001b[39m \u001b[38;5;124mb\u001b[39m\u001b[38;5;124m'\u001b[39m\u001b[38;5;124mART2\u001b[39m\u001b[38;5;124m'\u001b[39m)\n\u001b[1;32m     38\u001b[0m \tecg_abp_annotations \u001b[38;5;241m=\u001b[39m annotation_data[mask]\n\u001b[1;32m     40\u001b[0m idx_list \u001b[38;5;241m=\u001b[39m []\n",
      "\u001b[0;31mIndexError\u001b[0m: index -2 is out of bounds for axis 1 with size 0"
     ]
    }
   ],
   "source": [
    "\n",
    "# Directory containing the HDF5 files\n",
    "directory_path = '/storage/ms5267@drexel.edu/precicecap_downloads/'\n",
    "\n",
    "for filename in os.listdir(directory_path):\n",
    "\tif filename.endswith('.h5'):\n",
    "\t\tlog_info(f\"Processing {filename}\")\n",
    "\t\tdatafile = os.path.join(directory_path, filename)\n",
    "\n",
    "\t\twith h5py.File(datafile, 'r') as file:\n",
    "\t\t\t# First get the timestamp list for abp and ecg\n",
    "\t\t\ttry:\n",
    "\t\t\t\tabp_timestamp = file['Waveforms/ART_na_Timestamps']\n",
    "\t\t\texcept KeyError:\n",
    "\t\t\t\tabp_timestamp = file['Waveforms/ABP_na_Timestamps']\t\n",
    "\t\t\t\n",
    "\t\t\tecg_timestamp = file['Waveforms/ECG_II_Timestamps']\n",
    "\t\t\tabp_timestamp = abp_timestamp[:]\n",
    "\t\t\tecg_timestamp = ecg_timestamp[:]\n",
    "\n",
    "\t\t\tannotations_group = file['Annotations']\n",
    "\t\t\t\n",
    "\n",
    "\t\t\tfor name, subgroup in annotations_group.items():\n",
    "\t\t\t\tannotation_data = file[f'Annotations/{name}'][:]\n",
    "\n",
    "\t\t\t\t# If no annotation data need to print that there is no annotation for this file.\n",
    "\t\t\t\tif len(annotation_data)>0:\n",
    "\t\t\t\t\tannotation_group_names.extend(list(annotation_data[:, -2]))\n",
    "\t\t\t\telse:\n",
    "\t\t\t\t\tlog_info(f\"No annotation group in {filename}\")\n",
    "\n",
    "\t\t\t\tmask =  (annotation_data[:, -2] == b'ECG') | \\\n",
    "\t\t\t\t\t\t(annotation_data[:, -2] == b'ABP') | \\\n",
    "\t\t\t\t\t\t(annotation_data[:, -2] == b'ART') | \\\n",
    "\t\t\t\t\t\t(annotation_data[:, -2] == b'ART1') | \\\n",
    "\t\t\t\t\t\t(annotation_data[:, -2] == b'ART2')\n",
    "\n",
    "\t\t\t\tecg_abp_annotations = annotation_data[mask]\n",
    "\t\t\t\n",
    "\t\t\tidx_list = []\n",
    "\t\t\tfor ann in ecg_abp_annotations:\n",
    "\t\t\t\tann_start_ts = float(ann[2])*1e3\n",
    "\t\t\t\tann_end_ts = float(ann[3])*1e3\n",
    "\t\t\t\t# print(ann_start_ts, ann_end_ts, ann[4])\n",
    "\t\t\t\tif ann[4]==b'ECG':\n",
    "\t\t\t\t\tann_start_idx, ann_end_idx = find_idx_from_ts(ecg_timestamp, ann_start_ts, ann_end_ts)\n",
    "\t\t\t\telse:\n",
    "\t\t\t\t\tann_start_idx, ann_end_idx = find_idx_from_ts(abp_timestamp, ann_start_ts, ann_end_ts)\n",
    "\n",
    "\t\t\t\tidx_list.append([ann_start_idx, ann_end_idx])\n",
    "\n",
    "\t\t\tann_array = np.hstack((np.array(idx_list), ecg_abp_annotations))\n",
    "\t\t\tlog_info(ann_array.shape)\n",
    "\t\t\tnp.savetxt('../data/annotations/filename-annotations.csv', ann_array, delimiter=',', fmt='%s')"
   ]
  },
  {
   "cell_type": "code",
   "execution_count": 86,
   "metadata": {},
   "outputs": [
    {
     "data": {
      "text/plain": [
       "(1680689974005418, 1680690021002149)"
      ]
     },
     "execution_count": 86,
     "metadata": {},
     "output_type": "execute_result"
    }
   ],
   "source": [
    "abp_timestamp[4979380], abp_timestamp[4985252]"
   ]
  },
  {
   "cell_type": "code",
   "execution_count": 56,
   "metadata": {},
   "outputs": [
    {
     "data": {
      "text/plain": [
       "array([1680650063562978, 1680650063570981, 1680650063578985, ...,\n",
       "       1680697542722857, 1680697542730861, 1680697542738865])"
      ]
     },
     "execution_count": 56,
     "metadata": {},
     "output_type": "execute_result"
    }
   ],
   "source": [
    "abp_timestamp"
   ]
  },
  {
   "cell_type": "code",
   "execution_count": 76,
   "metadata": {},
   "outputs": [
    {
     "data": {
      "text/plain": [
       "(0, 5923743)"
      ]
     },
     "execution_count": 76,
     "metadata": {},
     "output_type": "execute_result"
    }
   ],
   "source": [
    "find_idx_from_ts(abp_timestamp, 1680647558000000, 1680947589000000)"
   ]
  },
  {
   "cell_type": "code",
   "execution_count": 78,
   "metadata": {},
   "outputs": [
    {
     "data": {
      "text/plain": [
       "1680647498287486"
      ]
     },
     "execution_count": 78,
     "metadata": {},
     "output_type": "execute_result"
    }
   ],
   "source": [
    "min(ecg_timestamp)"
   ]
  },
  {
   "cell_type": "code",
   "execution_count": null,
   "metadata": {},
   "outputs": [],
   "source": []
  }
 ],
 "metadata": {
  "kernelspec": {
   "display_name": "ve-m",
   "language": "python",
   "name": "python3"
  },
  "language_info": {
   "codemirror_mode": {
    "name": "ipython",
    "version": 3
   },
   "file_extension": ".py",
   "mimetype": "text/x-python",
   "name": "python",
   "nbconvert_exporter": "python",
   "pygments_lexer": "ipython3",
   "version": "3.10.13"
  }
 },
 "nbformat": 4,
 "nbformat_minor": 2
}
