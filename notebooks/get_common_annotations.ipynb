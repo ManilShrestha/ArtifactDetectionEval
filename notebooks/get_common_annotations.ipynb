{
 "cells": [
  {
   "cell_type": "markdown",
   "metadata": {},
   "source": [
    "## Run this after running get_artifact_indices.ipynb"
   ]
  },
  {
   "cell_type": "markdown",
   "metadata": {},
   "source": [
    "### This just creates the train artifact indices. Reads from '/data/annotations/' selects required columns and writes into 'data/train_annotations/'\n",
    "- Even if a single annotator thinks it is artifact then it is marked as artifact."
   ]
  },
  {
   "cell_type": "code",
   "execution_count": 3,
   "metadata": {},
   "outputs": [],
   "source": [
    "import os\n",
    "import pandas as pd"
   ]
  },
  {
   "cell_type": "code",
   "execution_count": null,
   "metadata": {},
   "outputs": [],
   "source": [
    "import pandas as pd\n",
    "import os\n",
    "\n",
    "source_dir = '/home/ms5267@drexel.edu/moberg-precicecap/ArtifactDetectionEval/data/annotations/'\n",
    "target_dir = '/home/ms5267@drexel.edu/moberg-precicecap/ArtifactDetectionEval/data/train_annotations/'\n",
    "\n",
    "for filename in os.listdir(source_dir):\n",
    "\tprint(f\"Prcoessing {filename}\\n\")\n",
    "\t# Load the CSV file\n",
    "\tdf = pd.read_csv(source_dir+filename)\n",
    "\n",
    "\t# Select the desired columns\n",
    "\tcolumns_to_keep = ['ID1', 'ID2', 'Start_Time', 'End_Time','Session', 'Signal_Type']\n",
    "\tfiltered_df = df[columns_to_keep]\n",
    "\n",
    "\t# Save the filtered data to a new CSV file\n",
    "\tfiltered_df.to_csv(target_dir+filename, index=False, header=False)\n",
    "\n",
    "\tprint(f\"{filename} CSV processed.\")\n"
   ]
  },
  {
   "cell_type": "code",
   "execution_count": 49,
   "metadata": {},
   "outputs": [],
   "source": [
    "# annotation_folder = '/home/ms5267@drexel.edu/moberg-precicecap/ArtifactDetectionEval/data/annotations'\n",
    "\n",
    "# # Define a function to check if two time intervals overlap\n",
    "# def is_overlapping(start1, end1, start2, end2):\n",
    "# \treturn max(start1, start2) < min(end1, end2)\n",
    "\n",
    "# def intersection(start1, end1, start2, end2):\n",
    "# \tnew_start = max(start1, start2)\n",
    "# \tnew_end = min(end1, end2)\n",
    "\n",
    "# \treturn new_start, new_end\n",
    "\n",
    "# for filename in os.listdir(annotation_folder):\n",
    "# \tcommon_ann = []\n",
    "# \tif filename.endswith('.csv'):\n",
    "# \t\tprint(f\"Processing {filename}\")\n",
    "\t\t\n",
    "# \t\tdatafile = os.path.join(annotation_folder, filename)\n",
    "# \t\tdf = pd.read_csv(datafile, encoding='utf-8') \n",
    "\n",
    "# \t\tsignal_type = df['Signal_Type'].unique().tolist()\n",
    "\n",
    "# \t\tfor s in signal_type:\n",
    "# \t\t\tdf_s = df[df['Signal_Type']==s]\n",
    "# \t\t\tdf_sorted = df_s.sort_values(by='Start_Time')\n",
    "\t\t\t\n",
    "# \t\tdf_sorted\n",
    "\t\t"
   ]
  },
  {
   "cell_type": "code",
   "execution_count": 4,
   "metadata": {},
   "outputs": [],
   "source": [
    "# df = pd.read_csv(datafile, encoding='utf-8') \n",
    "# df"
   ]
  },
  {
   "cell_type": "code",
   "execution_count": 5,
   "metadata": {},
   "outputs": [],
   "source": [
    "# signal_type = df['Signal_Type'].unique().tolist()\n",
    "# print(signal_type)\n",
    "\n",
    "# for s in signal_type:\n",
    "# \tdf_s = df[df['Signal_Type']==s]\n",
    "# \tdf_sorted = df_s.sort_values(by='Start_Time')\n",
    "\t\n",
    "# df_sorted"
   ]
  },
  {
   "cell_type": "code",
   "execution_count": 6,
   "metadata": {},
   "outputs": [],
   "source": [
    "# # Loop through each row and compare with subsequent rows\n",
    "# common_ann = []\n",
    "# for i in range(len(df_sorted)):\n",
    "# \trow_i = df_sorted.iloc[i]\n",
    "# \tstart_ts, end_ts = row_i['Start_Time'], row_i['End_Time']\n",
    "# \tflag = 0\n",
    "# \tannotated_by = row_i['Session']\n",
    "# \tfor j in range(i + 1, len(df_sorted)):\n",
    "# \t\trow_j = df_sorted.iloc[j]\n",
    "# \t\t# Compare based on your conditions, e.g., check if intervals overlap\n",
    "# \t\tif row_i['Signal_Type'] == row_j['Signal_Type'] and is_overlapping(start_ts, end_ts, row_j['Start_Time'], row_j['End_Time']) and row_i['Session']!=row_j['Session']:\n",
    "# \t\t\tprint(f\"Row {i} overlaps with row {j}\")\n",
    "\t\t\t\n",
    "# \t\t\tstart_ts, end_ts = intersection(start_ts, end_ts, row_j['Start_Time'], row_j['End_Time'])\n",
    "# \t\t\tannotated_by= annotated_by + ',' + row_j['Session']\n",
    "# \t\t\tflag = 1\n",
    "\t\n",
    "# \tif flag==1:\n",
    "# \t\tprint(start_ts, end_ts, annotated_by)\n",
    "# \t\tcommon_ann.append([int(start_ts), int(end_ts),annotated_by, row_i['Signal_Type']])\n",
    "\t\n",
    "# common_ann\n",
    "\t\t\n",
    "\t\n",
    "\t\t\t"
   ]
  },
  {
   "cell_type": "code",
   "execution_count": null,
   "metadata": {},
   "outputs": [],
   "source": []
  },
  {
   "cell_type": "code",
   "execution_count": null,
   "metadata": {},
   "outputs": [],
   "source": []
  }
 ],
 "metadata": {
  "kernelspec": {
   "display_name": "ve-m",
   "language": "python",
   "name": "python3"
  },
  "language_info": {
   "codemirror_mode": {
    "name": "ipython",
    "version": 3
   },
   "file_extension": ".py",
   "mimetype": "text/x-python",
   "name": "python",
   "nbconvert_exporter": "python",
   "pygments_lexer": "ipython3",
   "version": "3.10.13"
  }
 },
 "nbformat": 4,
 "nbformat_minor": 2
}
