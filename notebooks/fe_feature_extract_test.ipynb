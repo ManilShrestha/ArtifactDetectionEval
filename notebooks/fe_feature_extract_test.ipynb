{
 "cells": [
  {
   "cell_type": "code",
   "execution_count": 4,
   "metadata": {},
   "outputs": [],
   "source": [
    "import sys\n",
    "sys.path.append('..')\n",
    "\n",
    "import numpy as np\n",
    "import torch\n",
    "from tqdm.notebook import tqdm\n",
    "import pandas as pd\n",
    "import torch.nn.functional as F\n",
    "from lib.CustomDataset import TimeSeriesHDF5Dataset\n",
    "from torch.utils.data import DataLoader\n",
    "from lib.VAE import VAE\t\n",
    "from lib.Utilities import *\n",
    "import torch.optim as optim\n",
    "import time\n",
    "from sklearn.metrics import accuracy_score, f1_score, precision_score, recall_score, confusion_matrix\n",
    "import yaml\n",
    "import os\n",
    "\n",
    "from lib.FE_ExtractFeatures import ExtractFeatures"
   ]
  },
  {
   "cell_type": "code",
   "execution_count": 5,
   "metadata": {},
   "outputs": [],
   "source": [
    "segment_length_sec = 30\n",
    "sampling_rate = config['sampling_rate']\n",
    "overlap = 0.95\n",
    "directory_path = config['hdf5_file_dir']\n",
    "mode = ['ABP','ART']\n",
    "\n",
    "\n",
    "hdf5_files = ['4_Patient_2022-02-05_08:59.h5']"
   ]
  },
  {
   "cell_type": "code",
   "execution_count": 10,
   "metadata": {},
   "outputs": [
    {
     "name": "stderr",
     "output_type": "stream",
     "text": [
      "  0%|          | 0/1 [00:00<?, ?it/s]"
     ]
    },
    {
     "name": "stdout",
     "output_type": "stream",
     "text": [
      "14:53:08 :\t  Processing 4_Patient_2022-02-05_08:59.h5 \n",
      "\n",
      "14:53:08 :\t  No Waveforms/ABP_na in the hdf5 file: <HDF5 file \"4_Patient_2022-02-05_08:59.h5\" (mode r)>. \n",
      "\n",
      "No data to process, continuing...\n"
     ]
    },
    {
     "name": "stderr",
     "output_type": "stream",
     "text": []
    }
   ],
   "source": [
    "features_all = []\n",
    "\n",
    "for filename in tqdm(hdf5_files):\n",
    "\tlog_info(f\"Processing {filename}\")\n",
    "\tdatafile = os.path.join(directory_path, filename)\n",
    "\t\n",
    "\t# Load the dataset\n",
    "\tfor m in mode:\n",
    "\t\tdataset  = TimeSeriesHDF5Dataset(datafile, m, segment_len=segment_length_sec, overlap=overlap, phase=\"train\", smoothen=False) \n",
    "\n",
    "\t\tif len(dataset)==0:\n",
    "\t\t\tprint(\"No data to process, continuing...\")\n",
    "\t\t\tcontinue\n",
    "\n",
    "\t\tdataloader = DataLoader(dataset, batch_size=32, num_workers=4, shuffle=False, pin_memory=True)\n",
    "\n",
    "\t\tartifact_count, non_artifact_count= 0,0\n",
    "\t\t\n",
    "\n",
    "\t\ttotal_count =0\n",
    "\t\tfor start_i, data, lbl, ts in tqdm(dataloader):\n",
    "\t\t\tfilter = filter_abp_batch_scae(data)\n",
    "\t\t\t\n",
    "\t\t\tstart_i = start_i[filter]\n",
    "\t\t\tdata = data[filter]\n",
    "\t\t\tlbl = lbl[filter]\n",
    "\t\t\tts = ts[filter]\n",
    "\n",
    "\t\t\tif len(start_i)>0:\n",
    "\t\t\t\tfor b_n in range(len(start_i)):\n",
    "\t\t\t\t\tstart_idx = start_i[b_n]\n",
    "\t\t\t\t\tlabel = lbl[b_n]\n",
    "\t\t\t\t\ttimestamp  = ts[b_n]\n",
    "\t\t\t\t\tsignal_data = data[b_n]\n",
    "\n",
    "\t\t\t\t\tif label==1:\n",
    "\t\t\t\t\t\tartifact_count+=1\n",
    "\t\t\t\t\t\tinput_data = signal_data.unsqueeze(dim=0).numpy()\n",
    "\t\t\t\t\t\tfeatures = ExtractFeatures(input_data).get_features().squeeze()\n",
    "\t\t\t\t\t\t\n",
    "\t\t\t\t\t\tper_segment_features = [datafile, m, label.item()] + features.tolist()\n",
    "\t\t\t\t\t\tfeatures_all.append(per_segment_features)\n",
    "\n",
    "\t\t\t"
   ]
  },
  {
   "cell_type": "code",
   "execution_count": null,
   "metadata": {},
   "outputs": [
    {
     "data": {
      "text/plain": [
       "array([72.31705], dtype=float32)"
      ]
     },
     "execution_count": 13,
     "metadata": {},
     "output_type": "execute_result"
    }
   ],
   "source": []
  },
  {
   "cell_type": "code",
   "execution_count": null,
   "metadata": {},
   "outputs": [],
   "source": []
  }
 ],
 "metadata": {
  "kernelspec": {
   "display_name": "ve-m",
   "language": "python",
   "name": "python3"
  },
  "language_info": {
   "codemirror_mode": {
    "name": "ipython",
    "version": 3
   },
   "file_extension": ".py",
   "mimetype": "text/x-python",
   "name": "python",
   "nbconvert_exporter": "python",
   "pygments_lexer": "ipython3",
   "version": "3.10.13"
  }
 },
 "nbformat": 4,
 "nbformat_minor": 2
}
